{
 "cells": [
  {
   "cell_type": "code",
   "execution_count": 5,
   "metadata": {},
   "outputs": [],
   "source": [
    "import torch\n",
    "import os\n",
    "import openai"
   ]
  },
  {
   "cell_type": "code",
   "execution_count": 25,
   "metadata": {},
   "outputs": [
    {
     "data": {
      "text/plain": [
       "(['周杰伦 - 一路向北.mp3',\n",
       "  '周杰伦 - 发如雪.wav',\n",
       "  '周杰伦 - 四面楚歌.wav',\n",
       "  '周杰伦 - 夜曲.mp3',\n",
       "  '周杰伦 - 枫.wav',\n",
       "  '周杰伦 - 浪漫手机.wav',\n",
       "  '周杰伦 - 漂移.wav',\n",
       "  '周杰伦 - 珊瑚海.wav',\n",
       "  '周杰伦 - 蓝色风暴.wav',\n",
       "  '周杰伦 - 逆鳞.wav',\n",
       "  '周杰伦 - 麦芽糖.wav',\n",
       "  '周杰伦 - 黑色毛衣.wav'],\n",
       " ['./music\\\\周杰伦 - 一路向北.mp3',\n",
       "  './music\\\\周杰伦 - 发如雪.wav',\n",
       "  './music\\\\周杰伦 - 四面楚歌.wav',\n",
       "  './music\\\\周杰伦 - 夜曲.mp3',\n",
       "  './music\\\\周杰伦 - 枫.wav',\n",
       "  './music\\\\周杰伦 - 浪漫手机.wav',\n",
       "  './music\\\\周杰伦 - 漂移.wav',\n",
       "  './music\\\\周杰伦 - 珊瑚海.wav',\n",
       "  './music\\\\周杰伦 - 蓝色风暴.wav',\n",
       "  './music\\\\周杰伦 - 逆鳞.wav',\n",
       "  './music\\\\周杰伦 - 麦芽糖.wav',\n",
       "  './music\\\\周杰伦 - 黑色毛衣.wav'])"
      ]
     },
     "execution_count": 25,
     "metadata": {},
     "output_type": "execute_result"
    }
   ],
   "source": [
    "import glob\n",
    "import os\n",
    "file_paths = glob.glob(\"./music/*\")\n",
    "# 提取纯文件名（不带后缀）\n",
    "filenames = [\n",
    "    os.path.basename(path)  # 分割路径并去除扩展名\n",
    "    for path in file_paths\n",
    "]\n",
    "filenames, file_paths"
   ]
  },
  {
   "cell_type": "code",
   "execution_count": 21,
   "metadata": {},
   "outputs": [
    {
     "data": {
      "text/plain": [
       "{0: '周杰伦 - 一路向北',\n",
       " 1: '周杰伦 - 发如雪',\n",
       " 2: '周杰伦 - 四面楚歌',\n",
       " 3: '周杰伦 - 夜曲',\n",
       " 4: '周杰伦 - 枫',\n",
       " 5: '周杰伦 - 浪漫手机',\n",
       " 6: '周杰伦 - 漂移',\n",
       " 7: '周杰伦 - 珊瑚海',\n",
       " 8: '周杰伦 - 蓝色风暴',\n",
       " 9: '周杰伦 - 逆鳞',\n",
       " 10: '周杰伦 - 麦芽糖',\n",
       " 11: '周杰伦 - 黑色毛衣'}"
      ]
     },
     "execution_count": 21,
     "metadata": {},
     "output_type": "execute_result"
    }
   ],
   "source": [
    "music_name = {i: n for i, n in enumerate(filenames)}\n",
    "music_name"
   ]
  },
  {
   "cell_type": "code",
   "execution_count": 17,
   "metadata": {},
   "outputs": [
    {
     "data": {
      "text/plain": [
       "<pygame.mixer.Channel at 0x2150a3d7b50>"
      ]
     },
     "execution_count": 17,
     "metadata": {},
     "output_type": "execute_result"
    }
   ],
   "source": [
    "import pygame\n",
    "import io\n",
    "# 初始化音频模块\n",
    "pygame.mixer.init()\n",
    "# 读取文件到内存\n",
    "with open(file_paths[5], \"rb\") as f:\n",
    "    audio_data = f.read()\n",
    "# 从内存加载音频\n",
    "s = pygame.mixer.Sound(io.BytesIO(audio_data))\n",
    "s.play()"
   ]
  },
  {
   "cell_type": "code",
   "execution_count": 16,
   "metadata": {},
   "outputs": [],
   "source": [
    "s.stop()"
   ]
  },
  {
   "cell_type": "code",
   "execution_count": 1,
   "metadata": {},
   "outputs": [
    {
     "name": "stderr",
     "output_type": "stream",
     "text": [
      "d:\\miniconda3\\envs\\dev\\Lib\\site-packages\\tqdm\\auto.py:21: TqdmWarning: IProgress not found. Please update jupyter and ipywidgets. See https://ipywidgets.readthedocs.io/en/stable/user_install.html\n",
      "  from .autonotebook import tqdm as notebook_tqdm\n"
     ]
    }
   ],
   "source": [
    "import transformers "
   ]
  },
  {
   "cell_type": "code",
   "execution_count": 43,
   "metadata": {},
   "outputs": [
    {
     "name": "stdout",
     "output_type": "stream",
     "text": [
      "北京时间: 2025-04-07 22:23:37.656752+08:00\n"
     ]
    }
   ],
   "source": [
    "from datetime import datetime\n",
    "from zoneinfo import ZoneInfo\n",
    "\n",
    "tokyo_time = datetime.now(ZoneInfo(\"Asia/Shanghai\"))\n",
    "print(\"北京时间:\", tokyo_time)\n"
   ]
  },
  {
   "cell_type": "code",
   "execution_count": 44,
   "metadata": {},
   "outputs": [
    {
     "name": "stdout",
     "output_type": "stream",
     "text": [
      "本机时间: 2025-04-07 22:23:39.024077\n"
     ]
    }
   ],
   "source": [
    "import datetime\n",
    "\n",
    "local_time = datetime.datetime.now()\n",
    "print(\"本地时间:\", local_time)\n"
   ]
  },
  {
   "cell_type": "code",
   "execution_count": null,
   "metadata": {},
   "outputs": [],
   "source": []
  },
  {
   "cell_type": "code",
   "execution_count": 4,
   "metadata": {},
   "outputs": [],
   "source": [
    "def python_inter(py_code):\n",
    "    \"\"\"\n",
    "    专门用于执行python代码，并获取最终查询或处理结果。\n",
    "    :param py_code: 字符串形式的Python代码，\n",
    "    :param g: g，字符串形式变量，表示环境变量，无需设置，保持默认参数即可\n",
    "    :return：代码运行的最终结果\n",
    "    \"\"\"    \n",
    "    g=locals()\n",
    "    print(\"正在调用python_inter工具运行Python代码...\")\n",
    "    try:\n",
    "        # 尝试如果是表达式，则返回表达式运行结果\n",
    "        return str(eval(py_code, g))\n",
    "    # 若报错，则先测试是否是对相同变量重复赋值\n",
    "    except Exception as e:\n",
    "        global_vars_before = set(g.keys())\n",
    "        try:            \n",
    "            exec(py_code, g)\n",
    "        except Exception as e:\n",
    "            return f\"代码执行时报错{e}\"\n",
    "        global_vars_after = set(g.keys())\n",
    "        new_vars = global_vars_after - global_vars_before\n",
    "        # 若存在新变量\n",
    "        if new_vars:\n",
    "            result = {var: g[var] for var in new_vars}\n",
    "            print(\"代码已顺利执行，正在进行结果梳理...\")\n",
    "            return str(result)\n",
    "        else:\n",
    "            print(\"代码已顺利执行，正在进行结果梳理...\")\n",
    "            return \"已经顺利执行代码\""
   ]
  },
  {
   "cell_type": "code",
   "execution_count": 17,
   "metadata": {},
   "outputs": [
    {
     "name": "stdout",
     "output_type": "stream",
     "text": [
      "正在调用python_inter工具运行Python代码...\n",
      "代码已顺利执行，正在进行结果梳理...\n"
     ]
    },
    {
     "data": {
      "text/plain": [
       "\"{'arr': array([1, 2, 3, 4]), 'sum_arr': 10, 'np': <module 'numpy' from 'd:\\\\\\\\miniconda3\\\\\\\\envs\\\\\\\\dev\\\\\\\\Lib\\\\\\\\site-packages\\\\\\\\numpy\\\\\\\\__init__.py'>}\""
      ]
     },
     "execution_count": 17,
     "metadata": {},
     "output_type": "execute_result"
    }
   ],
   "source": [
    "python_inter_args = '{\"py_code\": \"import numpy as np\\\\narr = np.array([1, 2, 3, 4])\\\\nsum_arr = np.sum(arr)\\\\nsum_arr\"}'\n",
    "\n",
    "py_code1 = \"\"\"\n",
    "import numpy as np\n",
    "arr = np.array([1, 2, 3, 4])\n",
    "sum_arr = np.sum(arr)\n",
    "sum_arr\n",
    "\"\"\"\n",
    "\n",
    "python_inter(py_code1)"
   ]
  },
  {
   "cell_type": "code",
   "execution_count": 18,
   "metadata": {},
   "outputs": [
    {
     "name": "stdout",
     "output_type": "stream",
     "text": [
      "正在调用python_inter工具运行Python代码...\n"
     ]
    },
    {
     "data": {
      "text/plain": [
       "\"代码执行时报错name 'arr' is not defined\""
      ]
     },
     "execution_count": 18,
     "metadata": {},
     "output_type": "execute_result"
    }
   ],
   "source": [
    "py_code2 = \"\"\"\n",
    "import numpy as np\n",
    "a = arr[0]\n",
    "\"\"\"\n",
    "\n",
    "python_inter(py_code2)"
   ]
  },
  {
   "cell_type": "code",
   "execution_count": 24,
   "metadata": {},
   "outputs": [
    {
     "data": {
      "text/plain": [
       "1"
      ]
     },
     "execution_count": 24,
     "metadata": {},
     "output_type": "execute_result"
    }
   ],
   "source": [
    "s = set([1,2,3,34])\n",
    "s.pop()"
   ]
  },
  {
   "cell_type": "code",
   "execution_count": 16,
   "metadata": {},
   "outputs": [],
   "source": [
    "import json\n",
    "def python_inter(py_code: str):\n",
    "    \"\"\"\n",
    "    专门用于执行.py文件的python代码，并获取最终查询或处理结果。必须将结果赋值给一个变量。\n",
    "    :param py_code: 字符串形式的Python代码，\n",
    "    :return：代码运行的最终结果\n",
    "    \"\"\"    \n",
    "    wrapped_code = \"\"\n",
    "    global_vars_before = \"\"\n",
    "    __user_func__ = \"\"\n",
    "    _line = \"\"\n",
    "\n",
    "    g = locals()\n",
    "    \n",
    "\n",
    "    try:\n",
    "        # 若是表达式，直接运行并返回\n",
    "        result = eval(py_code, g)\n",
    "        return json.dumps(str(result), ensure_ascii=False)\n",
    "\n",
    "\n",
    "    except Exception:\n",
    "        global_vars_before = set(g.keys())\n",
    "        print(f\"global_vars_before: {global_vars_before}\")\n",
    "        try:\n",
    "            # 检查用户代码是否包含 return 语句\n",
    "            if \"return\" in py_code:\n",
    "                # 构造包装函数，将用户代码整体缩进\n",
    "                wrapped_code = \"def __user_func__():\\n\"\n",
    "                for _line in py_code.splitlines():\n",
    "                    wrapped_code += \"\\t\" + _line + \"\\n\"\n",
    "                wrapped_code += \"\\nresult = __user_func__()\\n\"\n",
    "                py_code = wrapped_code\n",
    "            # 执行代码\n",
    "            exec(py_code, g)\n",
    "        except Exception as e:\n",
    "            return json.dumps(f\"代码执行时报错: {e}\", ensure_ascii=False)\n",
    "        global_vars_after = set(g.keys())\n",
    "        new_vars = global_vars_after - global_vars_before\n",
    "        print(f\"new_vars: {new_vars}\")\n",
    "        if new_vars:\n",
    "            # 只返回可序列化的变量值\n",
    "            safe_result = {}\n",
    "            for var in new_vars:\n",
    "                try:\n",
    "                    json.dumps(g[var]) # 尝试序列化，确保可以转换为 JSON\n",
    "                    safe_result[var] = g[var]\n",
    "                except (TypeError, OverflowError):\n",
    "                    safe_result[var] = str(g[var]) # 如果不能序列化，则转换为字符串\n",
    "\n",
    "            return json.dumps(safe_result, ensure_ascii=False)\n",
    "        else:\n",
    "            return json.dumps(\"已经顺利执行代码\", ensure_ascii=False)"
   ]
  },
  {
   "cell_type": "code",
   "execution_count": 17,
   "metadata": {},
   "outputs": [
    {
     "name": "stdout",
     "output_type": "stream",
     "text": [
      "global_vars_before: {'py_code', 'global_vars_before', '__user_func__', '_line', 'wrapped_code', '__builtins__'}\n",
      "new_vars: {'plt', 'np'}\n"
     ]
    },
    {
     "data": {
      "text/plain": [
       "'{\"plt\": \"<module \\'matplotlib.pyplot\\' from \\'d:\\\\\\\\\\\\\\\\miniconda3\\\\\\\\\\\\\\\\envs\\\\\\\\\\\\\\\\dev\\\\\\\\\\\\\\\\Lib\\\\\\\\\\\\\\\\site-packages\\\\\\\\\\\\\\\\matplotlib\\\\\\\\\\\\\\\\pyplot.py\\'>\", \"np\": \"<module \\'numpy\\' from \\'d:\\\\\\\\\\\\\\\\miniconda3\\\\\\\\\\\\\\\\envs\\\\\\\\\\\\\\\\dev\\\\\\\\\\\\\\\\Lib\\\\\\\\\\\\\\\\site-packages\\\\\\\\\\\\\\\\numpy\\\\\\\\\\\\\\\\__init__.py\\'>\"}'"
      ]
     },
     "execution_count": 17,
     "metadata": {},
     "output_type": "execute_result"
    }
   ],
   "source": [
    "python_inter(\"import matplotlib.pyplot as plt\\nimport numpy as np# 创建数据x = np.linspace(-10, 10, 400)y = 2 * x# 绘制图像plt.figure(figsize=(8, 6))plt.plot(x, y, label='y=2x')plt.title('y=2x的图像')plt.xlabel('x')plt.ylabel('y')plt.grid(True)plt.axhline(0, color='black',linewidth=0.5)plt.axvline(0, color='black',linewidth=0.5)plt.legend()plt.show()\")"
   ]
  },
  {
   "cell_type": "code",
   "execution_count": null,
   "metadata": {},
   "outputs": [],
   "source": []
  },
  {
   "cell_type": "code",
   "execution_count": 1,
   "metadata": {},
   "outputs": [],
   "source": [
    "import json\n",
    "import numpy as np\n",
    "import matplotlib.pyplot as plt\n",
    "import pandas as pd\n",
    "\n",
    "def python_inter(py_code: str):\n",
    "    \"\"\"\n",
    "    专门用于执行.py文件的python代码，并获取最终查询或处理结果。必须将结果赋值给一个变量。\n",
    "    :param py_code: 字符串形式的Python代码，\n",
    "    :return：代码运行的最终结果\n",
    "    \"\"\"    \n",
    "    env = globals().copy()\n",
    "        # 创建一个全新的局部环境，包含__builtins__\n",
    "    env.update({\n",
    "        \"__name__\": \"__main__\",\n",
    "        \"np\": np,\n",
    "        \"pd\": pd,\n",
    "        \"json\": json,\n",
    "        \"plt\": plt\n",
    "    })\n",
    "    \n",
    "    try:\n",
    "        # 尝试将代码当作表达式执行（例如 \"3+4\"）\n",
    "        result = eval(py_code, env)\n",
    "        return json.dumps(str(result), ensure_ascii=False)\n",
    "    except Exception:\n",
    "        global_vars_before = set(env.keys())\n",
    "        # 如果当作表达式执行失败，则尝试用exec执行代码\n",
    "        try:\n",
    "            # 如果代码中含有 return 关键字，则将代码包装为一个函数，方便获取返回值\n",
    "            if \"return\" in py_code:\n",
    "                wrapped_code = \"def __user_func__():\\n\"\n",
    "                for line in py_code.splitlines():\n",
    "                    wrapped_code += \"\\t\" + line + \"\\n\"\n",
    "                wrapped_code += \"\\nresult = __user_func__()\\n\"\n",
    "                py_code = wrapped_code\n",
    "\n",
    "            exec(py_code, env)\n",
    "        except Exception as e:\n",
    "            return json.dumps(f\"代码执行时报错: {e}\", ensure_ascii=False)\n",
    "        global_vars_after = set(env.keys())\n",
    "        new_vars = global_vars_after - global_vars_before\n",
    "        print(f\"new_vars: {new_vars}\")\n",
    "        if new_vars:\n",
    "            # 只返回可序列化的变量值\n",
    "            safe_result = {}\n",
    "            for var in new_vars:\n",
    "                try:\n",
    "                    json.dumps(env[var]) # 尝试序列化，确保可以转换为 JSON\n",
    "                    safe_result[var] = env[var]\n",
    "                except (TypeError, OverflowError):\n",
    "                    safe_result[var] = str(env[var]) # 如果不能序列化，则转换为字符串\n",
    "\n",
    "            return json.dumps(safe_result, ensure_ascii=False)\n",
    "        else:\n",
    "            return json.dumps(\"已经顺利执行代码\", ensure_ascii=False)\n",
    "\n",
    "\n"
   ]
  },
  {
   "cell_type": "code",
   "execution_count": 7,
   "metadata": {},
   "outputs": [
    {
     "name": "stdout",
     "output_type": "stream",
     "text": [
      "音频文件后缀名: ['.mp3', '.wav', '.wav', '.mp3', '.wav', '.wav', '.wav', '.wav', '.wav', '.wav', '.wav', '.wav']\n"
     ]
    },
    {
     "data": {
      "text/plain": [
       "'\"代码执行时报错: music_drmp3: corrupt mp3 file (bad stream).\"'"
      ]
     },
     "execution_count": 7,
     "metadata": {},
     "output_type": "execute_result"
    }
   ],
   "source": [
    "python_inter('import os\\nimport pygame\\n\\n# 初始化pygame\\npygame.mixer.init()\\n\\n# 读取./music文件夹中的文件\\nmusic_files = os.listdir(\\'./music\\')\\n\\n# 筛选音频文件（假设常见后缀为.mp3, .wav, .ogg）\\naudio_files = [f for f in music_files if f.endswith((\\'.mp3\\', \\'.wav\\', \\'.ogg\\'))]\\n\\n# 打印音频文件后缀名\\nprint(\"音频文件后缀名:\", [os.path.splitext(f)[1] for f in audio_files])\\n\\n# 播放第一首音频（如果存在）\\nif audio_files:\\n    pygame.mixer.music.load(os.path.join(\\'./music\\', audio_files[0]))\\n    pygame.mixer.music.play()\\n    print(f\"正在播放: {audio_files[0]}\")\\nelse:\\n    print(\"未找到音频文件\")')"
   ]
  },
  {
   "cell_type": "code",
   "execution_count": null,
   "metadata": {},
   "outputs": [],
   "source": []
  },
  {
   "cell_type": "code",
   "execution_count": null,
   "metadata": {},
   "outputs": [],
   "source": []
  },
  {
   "cell_type": "code",
   "execution_count": null,
   "metadata": {},
   "outputs": [],
   "source": []
  },
  {
   "cell_type": "code",
   "execution_count": null,
   "metadata": {},
   "outputs": [],
   "source": []
  }
 ],
 "metadata": {
  "kernelspec": {
   "display_name": "dev",
   "language": "python",
   "name": "python3"
  },
  "language_info": {
   "codemirror_mode": {
    "name": "ipython",
    "version": 3
   },
   "file_extension": ".py",
   "mimetype": "text/x-python",
   "name": "python",
   "nbconvert_exporter": "python",
   "pygments_lexer": "ipython3",
   "version": "3.12.3"
  }
 },
 "nbformat": 4,
 "nbformat_minor": 2
}
