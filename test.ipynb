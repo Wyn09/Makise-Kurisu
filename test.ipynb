{
 "cells": [
  {
   "cell_type": "code",
   "execution_count": 5,
   "metadata": {},
   "outputs": [],
   "source": [
    "import torch\n",
    "import os\n",
    "import openai"
   ]
  },
  {
   "cell_type": "code",
   "execution_count": 25,
   "metadata": {},
   "outputs": [
    {
     "data": {
      "text/plain": [
       "(['周杰伦 - 一路向北.mp3',\n",
       "  '周杰伦 - 发如雪.wav',\n",
       "  '周杰伦 - 四面楚歌.wav',\n",
       "  '周杰伦 - 夜曲.mp3',\n",
       "  '周杰伦 - 枫.wav',\n",
       "  '周杰伦 - 浪漫手机.wav',\n",
       "  '周杰伦 - 漂移.wav',\n",
       "  '周杰伦 - 珊瑚海.wav',\n",
       "  '周杰伦 - 蓝色风暴.wav',\n",
       "  '周杰伦 - 逆鳞.wav',\n",
       "  '周杰伦 - 麦芽糖.wav',\n",
       "  '周杰伦 - 黑色毛衣.wav'],\n",
       " ['./music\\\\周杰伦 - 一路向北.mp3',\n",
       "  './music\\\\周杰伦 - 发如雪.wav',\n",
       "  './music\\\\周杰伦 - 四面楚歌.wav',\n",
       "  './music\\\\周杰伦 - 夜曲.mp3',\n",
       "  './music\\\\周杰伦 - 枫.wav',\n",
       "  './music\\\\周杰伦 - 浪漫手机.wav',\n",
       "  './music\\\\周杰伦 - 漂移.wav',\n",
       "  './music\\\\周杰伦 - 珊瑚海.wav',\n",
       "  './music\\\\周杰伦 - 蓝色风暴.wav',\n",
       "  './music\\\\周杰伦 - 逆鳞.wav',\n",
       "  './music\\\\周杰伦 - 麦芽糖.wav',\n",
       "  './music\\\\周杰伦 - 黑色毛衣.wav'])"
      ]
     },
     "execution_count": 25,
     "metadata": {},
     "output_type": "execute_result"
    }
   ],
   "source": [
    "import glob\n",
    "import os\n",
    "file_paths = glob.glob(\"./music/*\")\n",
    "# 提取纯文件名（不带后缀）\n",
    "filenames = [\n",
    "    os.path.basename(path)  # 分割路径并去除扩展名\n",
    "    for path in file_paths\n",
    "]\n",
    "filenames, file_paths"
   ]
  },
  {
   "cell_type": "code",
   "execution_count": 21,
   "metadata": {},
   "outputs": [
    {
     "data": {
      "text/plain": [
       "{0: '周杰伦 - 一路向北',\n",
       " 1: '周杰伦 - 发如雪',\n",
       " 2: '周杰伦 - 四面楚歌',\n",
       " 3: '周杰伦 - 夜曲',\n",
       " 4: '周杰伦 - 枫',\n",
       " 5: '周杰伦 - 浪漫手机',\n",
       " 6: '周杰伦 - 漂移',\n",
       " 7: '周杰伦 - 珊瑚海',\n",
       " 8: '周杰伦 - 蓝色风暴',\n",
       " 9: '周杰伦 - 逆鳞',\n",
       " 10: '周杰伦 - 麦芽糖',\n",
       " 11: '周杰伦 - 黑色毛衣'}"
      ]
     },
     "execution_count": 21,
     "metadata": {},
     "output_type": "execute_result"
    }
   ],
   "source": [
    "music_name = {i: n for i, n in enumerate(filenames)}\n",
    "music_name"
   ]
  },
  {
   "cell_type": "code",
   "execution_count": 17,
   "metadata": {},
   "outputs": [
    {
     "data": {
      "text/plain": [
       "<pygame.mixer.Channel at 0x2150a3d7b50>"
      ]
     },
     "execution_count": 17,
     "metadata": {},
     "output_type": "execute_result"
    }
   ],
   "source": [
    "import pygame\n",
    "import io\n",
    "# 初始化音频模块\n",
    "pygame.mixer.init()\n",
    "# 读取文件到内存\n",
    "with open(file_paths[5], \"rb\") as f:\n",
    "    audio_data = f.read()\n",
    "# 从内存加载音频\n",
    "s = pygame.mixer.Sound(io.BytesIO(audio_data))\n",
    "s.play()"
   ]
  },
  {
   "cell_type": "code",
   "execution_count": 16,
   "metadata": {},
   "outputs": [],
   "source": [
    "s.stop()"
   ]
  },
  {
   "cell_type": "code",
   "execution_count": 1,
   "metadata": {},
   "outputs": [
    {
     "name": "stderr",
     "output_type": "stream",
     "text": [
      "d:\\miniconda3\\envs\\dev\\Lib\\site-packages\\tqdm\\auto.py:21: TqdmWarning: IProgress not found. Please update jupyter and ipywidgets. See https://ipywidgets.readthedocs.io/en/stable/user_install.html\n",
      "  from .autonotebook import tqdm as notebook_tqdm\n"
     ]
    }
   ],
   "source": [
    "import transformers "
   ]
  },
  {
   "cell_type": "code",
   "execution_count": 43,
   "metadata": {},
   "outputs": [
    {
     "name": "stdout",
     "output_type": "stream",
     "text": [
      "北京时间: 2025-04-07 22:23:37.656752+08:00\n"
     ]
    }
   ],
   "source": [
    "from datetime import datetime\n",
    "from zoneinfo import ZoneInfo\n",
    "\n",
    "tokyo_time = datetime.now(ZoneInfo(\"Asia/Shanghai\"))\n",
    "print(\"北京时间:\", tokyo_time)\n"
   ]
  },
  {
   "cell_type": "code",
   "execution_count": 10,
   "metadata": {},
   "outputs": [
    {
     "name": "stdout",
     "output_type": "stream",
     "text": [
      "本地时间: 2025年04月10日 04点31分11秒\n"
     ]
    }
   ],
   "source": [
    "import datetime\n",
    "local_time = datetime.datetime.now().strftime(\"%Y年%m月%d日 %H点%M分%S秒\")\n",
    "print(\"本地时间:\", str(local_time))"
   ]
  },
  {
   "cell_type": "code",
   "execution_count": null,
   "metadata": {},
   "outputs": [],
   "source": []
  },
  {
   "cell_type": "code",
   "execution_count": 1,
   "metadata": {},
   "outputs": [],
   "source": [
    "import json\n",
    "import numpy as np\n",
    "import matplotlib.pyplot as plt\n",
    "import pandas as pd\n",
    "\n",
    "def python_inter(py_code: str):\n",
    "    \"\"\"\n",
    "    专门用于执行.py文件的python代码，并获取最终查询或处理结果。必须将结果赋值给一个变量。\n",
    "    :param py_code: 字符串形式的Python代码，\n",
    "    :return：代码运行的最终结果\n",
    "    \"\"\"    \n",
    "    env = globals().copy()\n",
    "        # 创建一个全新的局部环境，包含__builtins__\n",
    "    env.update({\n",
    "        \"__name__\": \"__main__\",\n",
    "        \"np\": np,\n",
    "        \"pd\": pd,\n",
    "        \"json\": json,\n",
    "        \"plt\": plt\n",
    "    })\n",
    "    \n",
    "    try:\n",
    "        # 尝试将代码当作表达式执行（例如 \"3+4\"）\n",
    "        result = eval(py_code, env)\n",
    "        return json.dumps(str(result), ensure_ascii=False)\n",
    "    except Exception:\n",
    "        global_vars_before = set(env.keys())\n",
    "        # 如果当作表达式执行失败，则尝试用exec执行代码\n",
    "        try:\n",
    "            # 如果代码中含有 return 关键字，则将代码包装为一个函数，方便获取返回值\n",
    "            if \"return\" in py_code:\n",
    "                wrapped_code = \"def __user_func__():\\n\"\n",
    "                for line in py_code.splitlines():\n",
    "                    wrapped_code += \"\\t\" + line + \"\\n\"\n",
    "                wrapped_code += \"\\nresult = __user_func__()\\n\"\n",
    "                py_code = wrapped_code\n",
    "\n",
    "            exec(py_code, env)\n",
    "        except Exception as e:\n",
    "            return json.dumps(f\"代码执行时报错: {e}\", ensure_ascii=False)\n",
    "        global_vars_after = set(env.keys())\n",
    "        new_vars = global_vars_after - global_vars_before\n",
    "        print(f\"new_vars: {new_vars}\")\n",
    "        if new_vars:\n",
    "            # 只返回可序列化的变量值\n",
    "            safe_result = {}\n",
    "            for var in new_vars:\n",
    "                try:\n",
    "                    json.dumps(env[var]) # 尝试序列化，确保可以转换为 JSON\n",
    "                    safe_result[var] = env[var]\n",
    "                except (TypeError, OverflowError):\n",
    "                    safe_result[var] = str(env[var]) # 如果不能序列化，则转换为字符串\n",
    "\n",
    "            return json.dumps(safe_result, ensure_ascii=False)\n",
    "        else:\n",
    "            return json.dumps(\"已经顺利执行代码\", ensure_ascii=False)\n",
    "\n",
    "\n"
   ]
  },
  {
   "cell_type": "code",
   "execution_count": 14,
   "metadata": {},
   "outputs": [
    {
     "name": "stdout",
     "output_type": "stream",
     "text": [
      "new_vars: {'file', 'files', 'txt_files', 'content', 'result', 'file_path'}\n",
      "Lesson 8.3 lD3、C4.5决策树的建模流程\n",
      "ID3和C4.5作为的经典决策树算法，尽管无法通过sklearn来进行建模，但其基本原理仍然值得讨论\n",
      "与学习。接下来我们详细介绍关于ID3和C4.5这两种决策树模型的建模基本思路和原理。ID3和C4.5的基\n",
      "本建模流程和CART树是类似的，也是根据纯度评估指标选取最佳的数据集划分方式，只是不过ID3和\n",
      "C4.5是以信息熵为评估指标，而数据集的离散特征划分方式也是一次展开一列，而不是寻找切点进行切\n",
      "分。我们先从ID3的基本原理开始介绍，随后讨论C4.5在ID3基础上的改善措施import numpy as np\n",
      "from ML basic function import\n",
      "-、ID3决策树的基本建模流程\n",
      "ID3是一个只能围绕离散型变量进行分类问题建模的决策树模型，即ID3无法处理连续型特\n",
      "征、也无法处理回归问题，如果带入训练数据有连续型变量，则首先需要对其进行离散化处理，也\n",
      "就是连续变量分箱。例如如下个人消费数据，各特征都是离散型变量，能够看出，其中age和income两列就是连续型\n",
      "变量分箱之后的结果，例如aqe列就是以30、40为界进行连续变量分箱。当然，除了如下表示外，我们\n",
      "还可以将分箱之后的结果直接赋予一个离散的值，如1、2、3等,更多关于连续变量的离散化的方法将在特征工程部分进行介绍。ID3的生长过程其实和CART树基本一致，其目标都是尽可能降低数据集的不纯度，其生长的过程也\n",
      "就是数据集不断划分的过程。\n",
      "下面继续介绍ID3和C4.5决策树的建模流程及其核心原理，进一步阐述两者的具体实现步骤和改进之处。\n",
      "\n",
      "-------------------------------------------------------\n",
      "\n",
      "### 2. ID3决策树的详细建模步骤\n",
      "\n",
      "ID3算法主要依赖于信息熵和信息增益来衡量数据集的不纯度，其基本流程如下：\n",
      "\n",
      "1. **计算数据集总体熵**  \n",
      "   对于一个包含 \\( c \\) 个类别的数据集 \\( D \\)，其熵定义为  \n",
      "   \\[\n",
      "   Entropy(D) = -\\sum_{i=1}^{c} p_i \\log_2 p_i\n",
      "   \\]\n",
      "   其中，\\( p_i \\) 表示第 \\( i \\) 类在数据集中的比例。熵反映了数据集的纯度，熵越高则数据的不确定性越大。\n",
      "\n",
      "2. **计算各特征的信息增益**  \n",
      "   对于数据集中每一个特征 \\( A \\)，根据其不同取值 \\( \\{v_1, v_2, \\ldots, v_k\\} \\) 将数据集 \\( D \\) 分割成若干子集 \\( D_{v_1}, D_{v_2}, \\ldots, D_{v_k} \\)。则特征 \\( A \\) 的信息增益计算公式为  \n",
      "   \\[\n",
      "   Gain(D, A) = Entropy(D) - \\sum_{j=1}^{k} \\frac{|D_{v_j}|}{|D|} \\, Entropy(D_{v_j})\n",
      "   \\]\n",
      "   信息增益反映了使用特征 \\( A \\) 划分后，数据集纯度的提升程度。\n",
      "\n",
      "3. **选择最佳划分特征**  \n",
      "   将所有特征的信息增益进行比较，选择信息增益最大的特征作为当前节点的分裂依据。这个特征能够在划分后使得各子集的不纯度下降得最多。\n",
      "\n",
      "4. **递归构建决策树**  \n",
      "   对于当前节点的每个分支（即某一特征取值对应的子集），重复步骤1~3，直至满足如下终止条件之一：\n",
      "   - 子集中所有样本均属于同一类别，此时直接将该节点作为叶子节点输出对应类别；\n",
      "   - 已没有剩余特征可供划分，此时采用多数表决（投票）方式决定叶子节点的类别；\n",
      "   - 数据集为空或无法继续划分，通常采用返回父节点中样本占比最大的类别。\n",
      "\n",
      "5. **生成决策树模型**  \n",
      "   经过以上递归分裂，最终生成一棵完整的决策树。该树在训练阶段旨在不断降低数据的不纯度，最终实现对未知样本的分类。\n",
      "\n",
      "**示例说明**：  \n",
      "假设有一份个人消费数据集，其中各特征（如“年龄”、“收入”、“信用评分”等）均为离散型变量。以“年龄”为例，原始数据可能为连续变量，但在预处理阶段通过分箱处理（例如以30、40为界划分为低、中、高年龄段）后变为离散型变量。接下来，按照上述流程，先计算整个数据集的熵，再分别计算“年龄”、“收入”、“信用评分”等特征的信息增益，选择信息增益最大的特征作为根节点，之后针对每个分支数据重复相同步骤，直至构造出完整的决策树。\n",
      "\n",
      "-------------------------------------------------------\n",
      "\n",
      "### 3. C4.5决策树的改进措施\n",
      "\n",
      "虽然ID3在理论上易于理解与实现，但它存在一些局限性，例如：\n",
      "- **仅适用于离散变量**：对于连续变量必须预先进行离散化处理，且离散化方式较为单一；\n",
      "- **信息增益偏向多值特征**：某些取值较多的特征可能因划分后子集较小而获得较高的信息增益，从而导致模型偏向这些特征；\n",
      "- **缺乏剪枝机制**：直接构造的树可能过于复杂，容易过拟合。\n",
      "\n",
      "为此，C4.5在ID3的基础上做出了以下改进：\n",
      "\n",
      "1. **自动处理连续型变量**  \n",
      "   C4.5能够自动对连续变量进行处理。具体方法为：  \n",
      "   - 对连续变量进行排序，寻找最佳切分点，即在某个取值处将数据分为两部分，使得信息增益或信息增益率达到最大。  \n",
      "   - 采用二元划分，将连续变量转化为“≤切分点”和“>切分点”两类。\n",
      "\n",
      "2. **采用信息增益率作为分裂标准**  \n",
      "   为了克服信息增益偏向多值特征的问题，C4.5引入了信息增益率，其定义为  \n",
      "   \\[\n",
      "   Gain\\ Ratio(D, A) = \\frac{Gain(D, A)}{SplitInfo(A)}\n",
      "   \\]\n",
      "   其中，  \n",
      "   \\[\n",
      "   SplitInfo(A) = -\\sum_{j=1}^{k} \\frac{|D_{v_j}|}{|D|} \\log_2 \\frac{|D_{v_j}|}{|D|}\n",
      "   \\]\n",
      "   该比率对信息增益进行归一化处理，能够更公平地评价各个特征的划分能力。\n",
      "\n",
      "3. **处理缺失值**  \n",
      "   在实际数据中，缺失值是常见问题。C4.5针对缺失值采用了基于样本权重的策略，在计算信息增益时，能够考虑缺失数据对整体分布的影响，从而使得模型更具鲁棒性。\n",
      "\n",
      "4. **引入剪枝策略**  \n",
      "   为避免过拟合，C4.5在决策树构造完成后进行后剪枝。通过对局部误差率进行评估，剪除那些在验证数据上表现不佳的分支，从而提高决策树在实际应用中的泛化能力。\n",
      "\n",
      "-------------------------------------------------------\n",
      "\n",
      "### 4. 小结\n",
      "\n",
      "- **ID3算法**：  \n",
      "  - 仅适用于离散变量，依靠信息熵和信息增益进行数据集划分。  \n",
      "  - 构建过程为递归分裂，直至满足终止条件。  \n",
      "  - 存在信息增益偏向多值特征、处理连续变量需额外离散化等不足。\n",
      "\n",
      "- **C4.5算法**：  \n",
      "  - 在ID3基础上进行了改进，能自动处理连续变量，并采用信息增益率避免偏向问题。  \n",
      "  - 增加了对缺失值的处理和剪枝机制，使得构造出的树更加简洁、鲁棒。  \n",
      "\n",
      "总体来说，理解ID3和C4.5的建模流程及其改进措施，不仅有助于掌握决策树在分类问题中的应用，还为后续学习更为复杂的模型（如CART及集成方法）打下了坚实的理论基础。\n",
      "\n",
      "以上就是关于ID3和C4.5决策树建模流程的详细介绍，希望能帮助你更深入地理解决策树算法的基本原理与实际应用。\n"
     ]
    }
   ],
   "source": [
    "print(eval(python_inter('import os\\n\\nfile_path = r\\'E:\\\\VsCode-Python\\\\Experiment\\\\mcp-proj\\\\mcp-graphrag\\\\graphrag\\\\input\\'\\n\\n# 检查路径是否存在\\nif os.path.exists(file_path):\\n    # 列出文件夹下的所有文件\\n    files = os.listdir(file_path)\\n    txt_files = [file for file in files if file.endswith(\\'.txt\\')]\\n    if txt_files:\\n        # 读取第一个txt文件\\n        with open(os.path.join(file_path, txt_files[0]), \\'r\\', encoding=\\'utf-8\\') as file:\\n            content = file.read()\\n        result = {\"status\": \"success\", \"content\": content}\\n    else:\\n        result = {\"status\": \"error\", \"message\": \"No txt files found in the directory.\"}\\nelse:\\n    result = {\"status\": \"error\", \"message\": \"Directory does not exist.\"}\\n\\nresult'))[\"content\"])"
   ]
  },
  {
   "cell_type": "code",
   "execution_count": 6,
   "metadata": {},
   "outputs": [
    {
     "name": "stdout",
     "output_type": "stream",
     "text": [
      "new_vars: {'os', 'res'}\n"
     ]
    },
    {
     "data": {
      "text/plain": [
       "'{\"os\": \"<module \\'os\\' (frozen)>\", \"res\": [\"cos_sin_plot.png\", \"cos_x.png\", \"y_cos_x_sin_x.png\"]}'"
      ]
     },
     "execution_count": 6,
     "metadata": {},
     "output_type": "execute_result"
    }
   ],
   "source": [
    "python_inter(\"import os\\nres=os.listdir('E:/data')\")"
   ]
  },
  {
   "cell_type": "code",
   "execution_count": 24,
   "metadata": {},
   "outputs": [
    {
     "data": {
      "text/plain": [
       "['cos_sin_plot.png', 'cos_x.png', 'y_cos_x_sin_x.png']"
      ]
     },
     "execution_count": 24,
     "metadata": {},
     "output_type": "execute_result"
    }
   ],
   "source": [
    "import os\n",
    "os.listdir('E:\\\\data')"
   ]
  },
  {
   "cell_type": "code",
   "execution_count": null,
   "metadata": {},
   "outputs": [],
   "source": []
  },
  {
   "cell_type": "code",
   "execution_count": null,
   "metadata": {},
   "outputs": [],
   "source": []
  }
 ],
 "metadata": {
  "kernelspec": {
   "display_name": "dev",
   "language": "python",
   "name": "python3"
  },
  "language_info": {
   "codemirror_mode": {
    "name": "ipython",
    "version": 3
   },
   "file_extension": ".py",
   "mimetype": "text/x-python",
   "name": "python",
   "nbconvert_exporter": "python",
   "pygments_lexer": "ipython3",
   "version": "3.12.3"
  }
 },
 "nbformat": 4,
 "nbformat_minor": 2
}
