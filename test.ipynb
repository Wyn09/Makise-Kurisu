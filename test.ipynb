{
 "cells": [
  {
   "cell_type": "code",
   "execution_count": 26,
   "metadata": {},
   "outputs": [
    {
     "data": {
      "text/plain": [
       "datetime.datetime(2025, 4, 12, 16, 36, 48, 848117)"
      ]
     },
     "execution_count": 26,
     "metadata": {},
     "output_type": "execute_result"
    }
   ],
   "source": [
    "import datetime\n"
   ]
  },
  {
   "cell_type": "code",
   "execution_count": 102,
   "metadata": {},
   "outputs": [
    {
     "data": {
      "text/plain": [
       "'0时4分45秒'"
      ]
     },
     "execution_count": 102,
     "metadata": {},
     "output_type": "execute_result"
    }
   ],
   "source": [
    "t1 = datetime.datetime.now()\n",
    "t2 = t1 + datetime.timedelta(minutes=4,seconds=45,hours=0)\n",
    "time_diff = (t2-t1).total_seconds()\n",
    "\n",
    "hours = int(time_diff / 3600)\n",
    "minutes = int((time_diff / 60) - hours * 60)\n",
    "seconds = int(time_diff - hours * 3600 - minutes * 60)\n",
    "timePeriod = f\"{hours}时{minutes}分{seconds}秒\"\n",
    "timePeriod"
   ]
  },
  {
   "cell_type": "code",
   "execution_count": 12,
   "metadata": {},
   "outputs": [
    {
     "data": {
      "text/plain": [
       "('asddfqeqwe',\n",
       " '!\"#$%&\\'()*+,-./:;<=>?@[\\\\]^_`{|}~！＂＃＄％＆＇（）＊＋，－．／：；＜＝＞？＠［＼］＾＿｀｛｜｝～｟｠｢｣､･')"
      ]
     },
     "execution_count": 12,
     "metadata": {},
     "output_type": "execute_result"
    }
   ],
   "source": [
    "import string\n",
    "import re\n",
    "\n",
    "s = \"**()$!@#asddfqeqwe\"\n",
    "\n",
    "fullwidth_punctuation = ''.join(chr(i) for i in range(0xFF01, 0xFF0F + 1)) + \\\n",
    "                        ''.join(chr(i) for i in range(0xFF1A, 0xFF20 + 1)) + \\\n",
    "                        ''.join(chr(i) for i in range(0xFF3B, 0xFF40 + 1)) + \\\n",
    "                        ''.join(chr(i) for i in range(0xFF5B, 0xFF60 + 1)) + \\\n",
    "                        ''.join(chr(i) for i in range(0xFF62, 0xFF65 + 1))\n",
    "\n",
    "punc = string.punctuation + fullwidth_punctuation\n",
    "# 创建一个正则表达式模式，匹配所有的标点符号\n",
    "pattern = re.compile(f\"[{re.escape(punc)}]\")\n",
    "# 使用 re.sub 替换所有匹配的标点符号为空字符串\n",
    "cleaned_s = pattern.sub(\"\", s)\n",
    "cleaned_s, punc\n"
   ]
  },
  {
   "cell_type": "code",
   "execution_count": 94,
   "metadata": {},
   "outputs": [
    {
     "data": {
      "text/plain": [
       "(285.0, 240)"
      ]
     },
     "execution_count": 94,
     "metadata": {},
     "output_type": "execute_result"
    }
   ],
   "source": [
    "time_diff, hours * 3600 + minutes * 60"
   ]
  },
  {
   "cell_type": "code",
   "execution_count": 95,
   "metadata": {},
   "outputs": [
    {
     "data": {
      "text/plain": [
       "(0, 4, 45.0)"
      ]
     },
     "execution_count": 95,
     "metadata": {},
     "output_type": "execute_result"
    }
   ],
   "source": [
    "hours,minutes,seconds"
   ]
  },
  {
   "cell_type": "code",
   "execution_count": null,
   "metadata": {},
   "outputs": [],
   "source": []
  },
  {
   "cell_type": "code",
   "execution_count": null,
   "metadata": {},
   "outputs": [],
   "source": []
  },
  {
   "cell_type": "code",
   "execution_count": null,
   "metadata": {},
   "outputs": [],
   "source": []
  },
  {
   "cell_type": "code",
   "execution_count": null,
   "metadata": {},
   "outputs": [],
   "source": []
  },
  {
   "cell_type": "code",
   "execution_count": null,
   "metadata": {},
   "outputs": [],
   "source": []
  },
  {
   "cell_type": "code",
   "execution_count": null,
   "metadata": {},
   "outputs": [],
   "source": []
  },
  {
   "cell_type": "code",
   "execution_count": null,
   "metadata": {},
   "outputs": [],
   "source": []
  },
  {
   "cell_type": "code",
   "execution_count": null,
   "metadata": {},
   "outputs": [],
   "source": []
  },
  {
   "cell_type": "code",
   "execution_count": null,
   "metadata": {},
   "outputs": [],
   "source": []
  }
 ],
 "metadata": {
  "kernelspec": {
   "display_name": "dev",
   "language": "python",
   "name": "python3"
  },
  "language_info": {
   "codemirror_mode": {
    "name": "ipython",
    "version": 3
   },
   "file_extension": ".py",
   "mimetype": "text/x-python",
   "name": "python",
   "nbconvert_exporter": "python",
   "pygments_lexer": "ipython3",
   "version": "3.12.3"
  }
 },
 "nbformat": 4,
 "nbformat_minor": 2
}
