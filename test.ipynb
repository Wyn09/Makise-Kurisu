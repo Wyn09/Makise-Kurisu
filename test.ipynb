{
 "cells": [
  {
   "cell_type": "code",
   "execution_count": 5,
   "metadata": {},
   "outputs": [],
   "source": [
    "import torch\n",
    "import os\n",
    "import openai"
   ]
  },
  {
   "cell_type": "code",
   "execution_count": 25,
   "metadata": {},
   "outputs": [
    {
     "data": {
      "text/plain": [
       "(['周杰伦 - 一路向北.mp3',\n",
       "  '周杰伦 - 发如雪.wav',\n",
       "  '周杰伦 - 四面楚歌.wav',\n",
       "  '周杰伦 - 夜曲.mp3',\n",
       "  '周杰伦 - 枫.wav',\n",
       "  '周杰伦 - 浪漫手机.wav',\n",
       "  '周杰伦 - 漂移.wav',\n",
       "  '周杰伦 - 珊瑚海.wav',\n",
       "  '周杰伦 - 蓝色风暴.wav',\n",
       "  '周杰伦 - 逆鳞.wav',\n",
       "  '周杰伦 - 麦芽糖.wav',\n",
       "  '周杰伦 - 黑色毛衣.wav'],\n",
       " ['./music\\\\周杰伦 - 一路向北.mp3',\n",
       "  './music\\\\周杰伦 - 发如雪.wav',\n",
       "  './music\\\\周杰伦 - 四面楚歌.wav',\n",
       "  './music\\\\周杰伦 - 夜曲.mp3',\n",
       "  './music\\\\周杰伦 - 枫.wav',\n",
       "  './music\\\\周杰伦 - 浪漫手机.wav',\n",
       "  './music\\\\周杰伦 - 漂移.wav',\n",
       "  './music\\\\周杰伦 - 珊瑚海.wav',\n",
       "  './music\\\\周杰伦 - 蓝色风暴.wav',\n",
       "  './music\\\\周杰伦 - 逆鳞.wav',\n",
       "  './music\\\\周杰伦 - 麦芽糖.wav',\n",
       "  './music\\\\周杰伦 - 黑色毛衣.wav'])"
      ]
     },
     "execution_count": 25,
     "metadata": {},
     "output_type": "execute_result"
    }
   ],
   "source": [
    "import glob\n",
    "import os\n",
    "file_paths = glob.glob(\"./music/*\")\n",
    "# 提取纯文件名（不带后缀）\n",
    "filenames = [\n",
    "    os.path.basename(path)  # 分割路径并去除扩展名\n",
    "    for path in file_paths\n",
    "]\n",
    "filenames, file_paths"
   ]
  },
  {
   "cell_type": "code",
   "execution_count": 21,
   "metadata": {},
   "outputs": [
    {
     "data": {
      "text/plain": [
       "{0: '周杰伦 - 一路向北',\n",
       " 1: '周杰伦 - 发如雪',\n",
       " 2: '周杰伦 - 四面楚歌',\n",
       " 3: '周杰伦 - 夜曲',\n",
       " 4: '周杰伦 - 枫',\n",
       " 5: '周杰伦 - 浪漫手机',\n",
       " 6: '周杰伦 - 漂移',\n",
       " 7: '周杰伦 - 珊瑚海',\n",
       " 8: '周杰伦 - 蓝色风暴',\n",
       " 9: '周杰伦 - 逆鳞',\n",
       " 10: '周杰伦 - 麦芽糖',\n",
       " 11: '周杰伦 - 黑色毛衣'}"
      ]
     },
     "execution_count": 21,
     "metadata": {},
     "output_type": "execute_result"
    }
   ],
   "source": [
    "music_name = {i: n for i, n in enumerate(filenames)}\n",
    "music_name"
   ]
  },
  {
   "cell_type": "code",
   "execution_count": 17,
   "metadata": {},
   "outputs": [
    {
     "data": {
      "text/plain": [
       "<pygame.mixer.Channel at 0x2150a3d7b50>"
      ]
     },
     "execution_count": 17,
     "metadata": {},
     "output_type": "execute_result"
    }
   ],
   "source": [
    "import pygame\n",
    "import io\n",
    "# 初始化音频模块\n",
    "pygame.mixer.init()\n",
    "# 读取文件到内存\n",
    "with open(file_paths[5], \"rb\") as f:\n",
    "    audio_data = f.read()\n",
    "# 从内存加载音频\n",
    "s = pygame.mixer.Sound(io.BytesIO(audio_data))\n",
    "s.play()"
   ]
  },
  {
   "cell_type": "code",
   "execution_count": 16,
   "metadata": {},
   "outputs": [],
   "source": [
    "s.stop()"
   ]
  },
  {
   "cell_type": "code",
   "execution_count": 1,
   "metadata": {},
   "outputs": [
    {
     "name": "stderr",
     "output_type": "stream",
     "text": [
      "d:\\miniconda3\\envs\\dev\\Lib\\site-packages\\tqdm\\auto.py:21: TqdmWarning: IProgress not found. Please update jupyter and ipywidgets. See https://ipywidgets.readthedocs.io/en/stable/user_install.html\n",
      "  from .autonotebook import tqdm as notebook_tqdm\n"
     ]
    }
   ],
   "source": [
    "import transformers "
   ]
  },
  {
   "cell_type": "code",
   "execution_count": null,
   "metadata": {},
   "outputs": [],
   "source": []
  },
  {
   "cell_type": "code",
   "execution_count": null,
   "metadata": {},
   "outputs": [],
   "source": []
  },
  {
   "cell_type": "code",
   "execution_count": null,
   "metadata": {},
   "outputs": [],
   "source": []
  }
 ],
 "metadata": {
  "kernelspec": {
   "display_name": "dev",
   "language": "python",
   "name": "python3"
  },
  "language_info": {
   "codemirror_mode": {
    "name": "ipython",
    "version": 3
   },
   "file_extension": ".py",
   "mimetype": "text/x-python",
   "name": "python",
   "nbconvert_exporter": "python",
   "pygments_lexer": "ipython3",
   "version": "3.12.3"
  }
 },
 "nbformat": 4,
 "nbformat_minor": 2
}
