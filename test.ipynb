{
 "cells": [
  {
   "cell_type": "code",
   "execution_count": 5,
   "metadata": {},
   "outputs": [],
   "source": [
    "import torch\n",
    "import os\n",
    "import openai"
   ]
  },
  {
   "cell_type": "code",
   "execution_count": 25,
   "metadata": {},
   "outputs": [
    {
     "data": {
      "text/plain": [
       "(['周杰伦 - 一路向北.mp3',\n",
       "  '周杰伦 - 发如雪.wav',\n",
       "  '周杰伦 - 四面楚歌.wav',\n",
       "  '周杰伦 - 夜曲.mp3',\n",
       "  '周杰伦 - 枫.wav',\n",
       "  '周杰伦 - 浪漫手机.wav',\n",
       "  '周杰伦 - 漂移.wav',\n",
       "  '周杰伦 - 珊瑚海.wav',\n",
       "  '周杰伦 - 蓝色风暴.wav',\n",
       "  '周杰伦 - 逆鳞.wav',\n",
       "  '周杰伦 - 麦芽糖.wav',\n",
       "  '周杰伦 - 黑色毛衣.wav'],\n",
       " ['./music\\\\周杰伦 - 一路向北.mp3',\n",
       "  './music\\\\周杰伦 - 发如雪.wav',\n",
       "  './music\\\\周杰伦 - 四面楚歌.wav',\n",
       "  './music\\\\周杰伦 - 夜曲.mp3',\n",
       "  './music\\\\周杰伦 - 枫.wav',\n",
       "  './music\\\\周杰伦 - 浪漫手机.wav',\n",
       "  './music\\\\周杰伦 - 漂移.wav',\n",
       "  './music\\\\周杰伦 - 珊瑚海.wav',\n",
       "  './music\\\\周杰伦 - 蓝色风暴.wav',\n",
       "  './music\\\\周杰伦 - 逆鳞.wav',\n",
       "  './music\\\\周杰伦 - 麦芽糖.wav',\n",
       "  './music\\\\周杰伦 - 黑色毛衣.wav'])"
      ]
     },
     "execution_count": 25,
     "metadata": {},
     "output_type": "execute_result"
    }
   ],
   "source": [
    "import glob\n",
    "import os\n",
    "file_paths = glob.glob(\"./music/*\")\n",
    "# 提取纯文件名（不带后缀）\n",
    "filenames = [\n",
    "    os.path.basename(path)  # 分割路径并去除扩展名\n",
    "    for path in file_paths\n",
    "]\n",
    "filenames, file_paths"
   ]
  },
  {
   "cell_type": "code",
   "execution_count": 21,
   "metadata": {},
   "outputs": [
    {
     "data": {
      "text/plain": [
       "{0: '周杰伦 - 一路向北',\n",
       " 1: '周杰伦 - 发如雪',\n",
       " 2: '周杰伦 - 四面楚歌',\n",
       " 3: '周杰伦 - 夜曲',\n",
       " 4: '周杰伦 - 枫',\n",
       " 5: '周杰伦 - 浪漫手机',\n",
       " 6: '周杰伦 - 漂移',\n",
       " 7: '周杰伦 - 珊瑚海',\n",
       " 8: '周杰伦 - 蓝色风暴',\n",
       " 9: '周杰伦 - 逆鳞',\n",
       " 10: '周杰伦 - 麦芽糖',\n",
       " 11: '周杰伦 - 黑色毛衣'}"
      ]
     },
     "execution_count": 21,
     "metadata": {},
     "output_type": "execute_result"
    }
   ],
   "source": [
    "music_name = {i: n for i, n in enumerate(filenames)}\n",
    "music_name"
   ]
  },
  {
   "cell_type": "code",
   "execution_count": 17,
   "metadata": {},
   "outputs": [
    {
     "data": {
      "text/plain": [
       "<pygame.mixer.Channel at 0x2150a3d7b50>"
      ]
     },
     "execution_count": 17,
     "metadata": {},
     "output_type": "execute_result"
    }
   ],
   "source": [
    "import pygame\n",
    "import io\n",
    "# 初始化音频模块\n",
    "pygame.mixer.init()\n",
    "# 读取文件到内存\n",
    "with open(file_paths[5], \"rb\") as f:\n",
    "    audio_data = f.read()\n",
    "# 从内存加载音频\n",
    "s = pygame.mixer.Sound(io.BytesIO(audio_data))\n",
    "s.play()"
   ]
  },
  {
   "cell_type": "code",
   "execution_count": 16,
   "metadata": {},
   "outputs": [],
   "source": [
    "s.stop()"
   ]
  },
  {
   "cell_type": "code",
   "execution_count": 1,
   "metadata": {},
   "outputs": [
    {
     "name": "stderr",
     "output_type": "stream",
     "text": [
      "d:\\miniconda3\\envs\\dev\\Lib\\site-packages\\tqdm\\auto.py:21: TqdmWarning: IProgress not found. Please update jupyter and ipywidgets. See https://ipywidgets.readthedocs.io/en/stable/user_install.html\n",
      "  from .autonotebook import tqdm as notebook_tqdm\n"
     ]
    }
   ],
   "source": [
    "import transformers "
   ]
  },
  {
   "cell_type": "code",
   "execution_count": 43,
   "metadata": {},
   "outputs": [
    {
     "name": "stdout",
     "output_type": "stream",
     "text": [
      "北京时间: 2025-04-07 22:23:37.656752+08:00\n"
     ]
    }
   ],
   "source": [
    "from datetime import datetime\n",
    "from zoneinfo import ZoneInfo\n",
    "\n",
    "tokyo_time = datetime.now(ZoneInfo(\"Asia/Shanghai\"))\n",
    "print(\"北京时间:\", tokyo_time)\n"
   ]
  },
  {
   "cell_type": "code",
   "execution_count": 44,
   "metadata": {},
   "outputs": [
    {
     "name": "stdout",
     "output_type": "stream",
     "text": [
      "本机时间: 2025-04-07 22:23:39.024077\n"
     ]
    }
   ],
   "source": [
    "import datetime\n",
    "\n",
    "local_time = datetime.datetime.now()\n",
    "print(\"本地时间:\", local_time)\n"
   ]
  },
  {
   "cell_type": "code",
   "execution_count": null,
   "metadata": {},
   "outputs": [],
   "source": []
  },
  {
   "cell_type": "code",
   "execution_count": 16,
   "metadata": {},
   "outputs": [],
   "source": [
    "def python_inter(py_code):\n",
    "    \"\"\"\n",
    "    专门用于执行python代码，并获取最终查询或处理结果。\n",
    "    :param py_code: 字符串形式的Python代码，\n",
    "    :param g: g，字符串形式变量，表示环境变量，无需设置，保持默认参数即可\n",
    "    :return：代码运行的最终结果\n",
    "    \"\"\"    \n",
    "    g=locals()\n",
    "    print(\"正在调用python_inter工具运行Python代码...\")\n",
    "    try:\n",
    "        # 尝试如果是表达式，则返回表达式运行结果\n",
    "        return str(eval(py_code, g))\n",
    "    # 若报错，则先测试是否是对相同变量重复赋值\n",
    "    except Exception as e:\n",
    "        global_vars_before = set(g.keys())\n",
    "        try:            \n",
    "            exec(py_code, g)\n",
    "        except Exception as e:\n",
    "            return f\"代码执行时报错{e}\"\n",
    "        global_vars_after = set(g.keys())\n",
    "        new_vars = global_vars_after - global_vars_before\n",
    "        # 若存在新变量\n",
    "        if new_vars:\n",
    "            result = {var: g[var] for var in new_vars}\n",
    "            print(\"代码已顺利执行，正在进行结果梳理...\")\n",
    "            return str(result)\n",
    "        else:\n",
    "            print(\"代码已顺利执行，正在进行结果梳理...\")\n",
    "            return \"已经顺利执行代码\""
   ]
  },
  {
   "cell_type": "code",
   "execution_count": 17,
   "metadata": {},
   "outputs": [
    {
     "name": "stdout",
     "output_type": "stream",
     "text": [
      "正在调用python_inter工具运行Python代码...\n",
      "代码已顺利执行，正在进行结果梳理...\n"
     ]
    },
    {
     "data": {
      "text/plain": [
       "\"{'arr': array([1, 2, 3, 4]), 'sum_arr': 10, 'np': <module 'numpy' from 'd:\\\\\\\\miniconda3\\\\\\\\envs\\\\\\\\dev\\\\\\\\Lib\\\\\\\\site-packages\\\\\\\\numpy\\\\\\\\__init__.py'>}\""
      ]
     },
     "execution_count": 17,
     "metadata": {},
     "output_type": "execute_result"
    }
   ],
   "source": [
    "python_inter_args = '{\"py_code\": \"import numpy as np\\\\narr = np.array([1, 2, 3, 4])\\\\nsum_arr = np.sum(arr)\\\\nsum_arr\"}'\n",
    "\n",
    "py_code1 = \"\"\"\n",
    "import numpy as np\n",
    "arr = np.array([1, 2, 3, 4])\n",
    "sum_arr = np.sum(arr)\n",
    "sum_arr\n",
    "\"\"\"\n",
    "\n",
    "python_inter(py_code1)"
   ]
  },
  {
   "cell_type": "code",
   "execution_count": 18,
   "metadata": {},
   "outputs": [
    {
     "name": "stdout",
     "output_type": "stream",
     "text": [
      "正在调用python_inter工具运行Python代码...\n"
     ]
    },
    {
     "data": {
      "text/plain": [
       "\"代码执行时报错name 'arr' is not defined\""
      ]
     },
     "execution_count": 18,
     "metadata": {},
     "output_type": "execute_result"
    }
   ],
   "source": [
    "py_code2 = \"\"\"\n",
    "import numpy as np\n",
    "a = arr[0]\n",
    "\"\"\"\n",
    "\n",
    "python_inter(py_code2)"
   ]
  },
  {
   "cell_type": "code",
   "execution_count": 24,
   "metadata": {},
   "outputs": [
    {
     "data": {
      "text/plain": [
       "1"
      ]
     },
     "execution_count": 24,
     "metadata": {},
     "output_type": "execute_result"
    }
   ],
   "source": [
    "s = set([1,2,3,34])\n",
    "s.pop()"
   ]
  },
  {
   "cell_type": "code",
   "execution_count": null,
   "metadata": {},
   "outputs": [],
   "source": []
  },
  {
   "cell_type": "code",
   "execution_count": null,
   "metadata": {},
   "outputs": [],
   "source": []
  }
 ],
 "metadata": {
  "kernelspec": {
   "display_name": "dev",
   "language": "python",
   "name": "python3"
  },
  "language_info": {
   "codemirror_mode": {
    "name": "ipython",
    "version": 3
   },
   "file_extension": ".py",
   "mimetype": "text/x-python",
   "name": "python",
   "nbconvert_exporter": "python",
   "pygments_lexer": "ipython3",
   "version": "3.12.3"
  }
 },
 "nbformat": 4,
 "nbformat_minor": 2
}
