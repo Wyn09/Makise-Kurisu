{
 "cells": [
  {
   "cell_type": "markdown",
   "metadata": {},
   "source": [
    "# api.py usage\n",
    "\n",
    "` python api.py -dr \"123.wav\" -dt \"一二三。\" -dl \"zh\" `\n",
    "\n",
    "## 执行参数:\n",
    "\n",
    "`-s` - `SoVITS模型路径, 可在 config.py 中指定`  \n",
    "`-g` - `GPT模型路径, 可在 config.py 中指定`  \n",
    "\n",
    "调用请求缺少参考音频时使用  \n",
    "`-dr` - `默认参考音频路径`  \n",
    "`-dt` - `默认参考音频文本`  \n",
    "`-dl` - `默认参考音频语种, \"中文\",\"英文\",\"日文\",\"韩文\",\"粤语,\"zh\",\"en\",\"ja\",\"ko\",\"yue\"`  \n",
    "\n",
    "`-d` - `推理设备, \"cuda\",\"cpu\"`  \n",
    "`-a` - `绑定地址, 默认\"127.0.0.1\"`  \n",
    "`-p` - `绑定端口, 默认9880, 可在 config.py 中指定`  \n",
    "`-fp` - `覆盖 config.py 使用全精度`  \n",
    "`-hp` - `覆盖 config.py 使用半精度`  \n",
    "`-sm` - `流式返回模式, 默认不启用, \"close\",\"c\", \"normal\",\"n\", \"keepalive\",\"k\"`  \n",
    "`-mt` - `返回的音频编码格式, 流式默认ogg, 非流式默认wav, \"wav\", \"ogg\", \"aac\"`  \n",
    "`-st` - `返回的音频数据类型, 默认int16, \"int16\", \"int32\"`    \n",
    "`-cp` - `文本切分符号设定, 默认为空, 以\",.，。\"字符串的方式传入`   \n",
    "`-hb` - `cnhubert路径`  \n",
    "`-b` - `bert路径`  \n",
    "\n",
    "## 调用:\n",
    "\n",
    "### 推理\n",
    "\n",
    "endpoint: `/`\n",
    "\n",
    "使用执行参数指定的参考音频:\n",
    "GET:\n",
    "    `http://127.0.0.1:9880?text=先帝创业未半而中道崩殂，今天下三分，益州疲弊，此诚危急存亡之秋也。&text_language=zh`\n",
    "POST:\n",
    "```json\n",
    "{\n",
    "    \"text\": \"先帝创业未半而中道崩殂，今天下三分，益州疲弊，此诚危急存亡之秋也。\",\n",
    "    \"text_language\": \"zh\"\n",
    "}\n",
    "```\n",
    "\n",
    "使用执行参数指定的参考音频并设定分割符号:\n",
    "GET:\n",
    "    `http://127.0.0.1:9880?text=先帝创业未半而中道崩殂，今天下三分，益州疲弊，此诚危急存亡之秋也。&text_language=zh&cut_punc=，。`\n",
    "POST:\n",
    "```json\n",
    "{\n",
    "    \"text\": \"先帝创业未半而中道崩殂，今天下三分，益州疲弊，此诚危急存亡之秋也。\",\n",
    "    \"text_language\": \"zh\",\n",
    "    \"cut_punc\": \"，。\",\n",
    "}\n",
    "```\n",
    "\n",
    "手动指定当次推理所使用的参考音频:\n",
    "GET:\n",
    "    `http://127.0.0.1:9880?refer_wav_path=123.wav&prompt_text=一二三。&prompt_language=zh&text=先帝创业未半而中道崩殂，今天下三分，益州疲弊，此诚危急存亡之秋也。&text_language=zh`\n",
    "POST:\n",
    "```json\n",
    "{\n",
    "    \"refer_wav_path\": \"123.wav\",\n",
    "    \"prompt_text\": \"一二三。\",\n",
    "    \"prompt_language\": \"zh\",\n",
    "    \"text\": \"先帝创业未半而中道崩殂，今天下三分，益州疲弊，此诚危急存亡之秋也。\",\n",
    "    \"text_language\": \"zh\"\n",
    "}\n",
    "```\n",
    "\n",
    "RESP:\n",
    "成功: 直接返回 wav 音频流， http code 200\n",
    "失败: 返回包含错误信息的 json, http code 400\n",
    "\n",
    "手动指定当次推理所使用的参考音频，并提供参数:\n",
    "GET:\n",
    "    `http://127.0.0.1:9880?refer_wav_path=123.wav&prompt_text=一二三。&prompt_language=zh&text=先帝创业未半而中道崩殂，今天下三分，益州疲弊，此诚危急存亡之秋也。&text_language=zh&top_k=20&top_p=0.6&temperature=0.6&speed=1&inp_refs=\"456.wav\"&inp_refs=\"789.wav\"`\n",
    "POST:\n",
    "```json\n",
    "{\n",
    "    \"refer_wav_path\": \"123.wav\",\n",
    "    \"prompt_text\": \"一二三。\",\n",
    "    \"prompt_language\": \"zh\",\n",
    "    \"text\": \"先帝创业未半而中道崩殂，今天下三分，益州疲弊，此诚危急存亡之秋也。\",\n",
    "    \"text_language\": \"zh\",\n",
    "    \"top_k\": 20,\n",
    "    \"top_p\": 0.6,\n",
    "    \"temperature\": 0.6,\n",
    "    \"speed\": 1,\n",
    "    \"inp_refs\": [\"456.wav\",\"789.wav\"]\n",
    "}\n",
    "```\n",
    "\n",
    "RESP:\n",
    "成功: 直接返回 wav 音频流， http code 200\n",
    "失败: 返回包含错误信息的 json, http code 400\n",
    "\n",
    "\n",
    "### 更换默认参考音频\n",
    "\n",
    "endpoint: `/change_refer`\n",
    "\n",
    "key与推理端一样\n",
    "\n",
    "GET:\n",
    "    `http://127.0.0.1:9880/change_refer?refer_wav_path=123.wav&prompt_text=一二三。&prompt_language=zh`\n",
    "POST:\n",
    "```json\n",
    "{\n",
    "    \"refer_wav_path\": \"123.wav\",\n",
    "    \"prompt_text\": \"一二三。\",\n",
    "    \"prompt_language\": \"zh\"\n",
    "}\n",
    "```\n",
    "\n",
    "RESP:\n",
    "成功: json, http code 200\n",
    "失败: json, 400\n",
    "\n",
    "\n",
    "### 命令控制\n",
    "\n",
    "endpoint: `/control`\n",
    "\n",
    "command:\n",
    "\"restart\": 重新运行\n",
    "\"exit\": 结束运行\n",
    "\n",
    "GET:\n",
    "    `http://127.0.0.1:9880/control?command=restart`\n",
    "POST:\n",
    "```json\n",
    "{\n",
    "    \"command\": \"restart\"\n",
    "}\n",
    "```\n",
    "\n",
    "RESP: 无"
   ]
  },
  {
   "cell_type": "markdown",
   "metadata": {},
   "source": []
  },
  {
   "cell_type": "markdown",
   "metadata": {},
   "source": []
  },
  {
   "cell_type": "markdown",
   "metadata": {},
   "source": [
    "## 先切换到路径"
   ]
  },
  {
   "cell_type": "code",
   "execution_count": null,
   "metadata": {
    "vscode": {
     "languageId": "plaintext"
    }
   },
   "outputs": [],
   "source": [
    "cd /d \"D:\\GPT-SoVITS-v3lora-20250228\\GPT-SoVITS-v3lora-20250228\\GPT-SoVITS-v3lora-20250228\""
   ]
  },
  {
   "cell_type": "markdown",
   "metadata": {},
   "source": [
    "## 牧濑红莉栖:"
   ]
  },
  {
   "cell_type": "code",
   "execution_count": null,
   "metadata": {
    "vscode": {
     "languageId": "plaintext"
    }
   },
   "outputs": [],
   "source": [
    ".\\runtime\\python.exe api.py ^\n",
    "-s \"D:\\GPT-SoVITS-v3lora-20250228\\GPT-SoVITS-v3lora-20250228\\GPT-SoVITS-v3lora-20250228\\SoVITS_weights_v2\\Kurisu_correct_e24_s768.pth\" ^\n",
    "-g \"D:\\GPT-SoVITS-v3lora-20250228\\GPT-SoVITS-v3lora-20250228\\GPT-SoVITS-v3lora-20250228\\GPT_weights_v2\\Kurisu_correct-e50.ckpt\" ^\n",
    "-dr \"E:\\VsCode-Python\\Experiment\\Makise Kurisu\\character\\Makise Kurisu\\平淡\\crs_0160.wav\" ^\n",
    "-dt \"研究所のメンバーに迎えてくれるっていうこと? でも、私…8月中にアメリカに帰る予定なんですけど\" ^\n",
    "-dl \"ja\" "
   ]
  },
  {
   "cell_type": "markdown",
   "metadata": {},
   "source": [
    "## 2B"
   ]
  },
  {
   "cell_type": "code",
   "execution_count": null,
   "metadata": {
    "vscode": {
     "languageId": "plaintext"
    }
   },
   "outputs": [],
   "source": [
    ".\\runtime\\python.exe api.py ^\n",
    "-s \"D:\\GPT-SoVITS-v3lora-20250228\\GPT-SoVITS-v3lora-20250228\\GPT-SoVITS-v3lora-20250228\\SoVITS_weights_v2\\Nier-2B_e8_s104.pth\" ^\n",
    "-g \"D:\\GPT-SoVITS-v3lora-20250228\\GPT-SoVITS-v3lora-20250228\\GPT-SoVITS-v3lora-20250228\\GPT_weights_v2\\Nier-2B-e15.ckpt\" ^\n",
    "-dr \"E:\\VsCode-Python\\Experiment\\Makise Kurisu\\character\\Nier\\2B\\疑问\\疑问.wav\" ^\n",
    "-dt \"何か忘れ物でもしたの?  そこで補給してきたらどう?\" ^\n",
    "-dl \"ja\""
   ]
  },
  {
   "cell_type": "markdown",
   "metadata": {},
   "source": []
  },
  {
   "cell_type": "markdown",
   "metadata": {},
   "source": [
    "## AutoDL"
   ]
  },
  {
   "cell_type": "code",
   "execution_count": null,
   "metadata": {
    "vscode": {
     "languageId": "plaintext"
    }
   },
   "outputs": [],
   "source": [
    "然后来到JupyterLab打开的页面，在终端中输入\n",
    "echo {}> ~/GPT-SoVITS/i18n/locale/en_US.json && source activate GPTSoVits && cd ~/GPT-SoVITS/ && python webui.py zh_CN"
   ]
  }
 ],
 "metadata": {
  "language_info": {
   "name": "python"
  }
 },
 "nbformat": 4,
 "nbformat_minor": 2
}
