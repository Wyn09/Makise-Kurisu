{
 "cells": [
  {
   "cell_type": "markdown",
   "metadata": {},
   "source": [
    "# 查看提示词模板"
   ]
  },
  {
   "cell_type": "code",
   "execution_count": 1,
   "metadata": {},
   "outputs": [
    {
     "name": "stderr",
     "output_type": "stream",
     "text": [
      "d:\\miniconda3\\envs\\dev\\Lib\\site-packages\\tqdm\\auto.py:21: TqdmWarning: IProgress not found. Please update jupyter and ipywidgets. See https://ipywidgets.readthedocs.io/en/stable/user_install.html\n",
      "  from .autonotebook import tqdm as notebook_tqdm\n"
     ]
    }
   ],
   "source": [
    "from transformers import AutoTokenizer, BitsAndBytesConfig"
   ]
  },
  {
   "cell_type": "code",
   "execution_count": 2,
   "metadata": {},
   "outputs": [
    {
     "name": "stdout",
     "output_type": "stream",
     "text": [
      "<|im_start|>system\n",
      "你是一个智障问答助手。<|im_end|>\n",
      "<|im_start|>user\n",
      "天空为什么是蓝色的<|im_end|>\n",
      "<|im_start|>assistant\n",
      "<think>天空为什么是蓝色的呢？首先，太阳本身是蓝色的，因为太阳光被地球大气层所影响，折射了光线，让天空看起来是蓝色的。</think>天空看起来是蓝色的主要是由于太阳光被地球大气层折射而成的。<|im_end|>\n",
      "<|im_start|>user\n",
      "如何评价吃饭不洗手<|im_end|>\n",
      "<|im_start|>assistant\n",
      "\n"
     ]
    }
   ],
   "source": [
    "model_dir = r\"E:\\VsCode-Python\\pretrained_models\\Qwen\\Qwen2.5-3B-Instruct\"\n",
    "tokenizer = AutoTokenizer.from_pretrained(model_dir, local_files_only=True)\n",
    "messages = [\n",
    "    {\"role\": \"system\", \"content\": \"你是一个智障问答助手。\"},\n",
    "    {\"role\": \"user\", \"content\": \"天空为什么是蓝色的\"},\n",
    "    {\"role\": \"assistant\", \"content\":\"<think>天空为什么是蓝色的呢？首先，太阳本身是蓝色的，因为太阳光被地球大气层所影响，折射了光线，让天空看起来是蓝色的。</think>天空看起来是蓝色的主要是由于太阳光被地球大气层折射而成的。\"},\n",
    "    {\"role\": \"user\", \"content\": \"如何评价吃饭不洗手\"},\n",
    "]\n",
    "propmt_temp = tokenizer.apply_chat_template(\n",
    "    messages,\n",
    "    tokenize=False,\n",
    "    add_generation_prompt=True\n",
    ")\n",
    "print(propmt_temp)"
   ]
  },
  {
   "cell_type": "code",
   "execution_count": 3,
   "metadata": {},
   "outputs": [
    {
     "data": {
      "text/plain": [
       "'<|im_start|>system\\n你是一个智障问答助手。<|im_end|>\\n<|im_start|>user\\n天空为什么是蓝色的<|im_end|>\\n<|im_start|>assistant\\n<think>天空为什么是蓝色的呢？首先，太阳本身是蓝色的，因为太阳光被地球大气层所影响，折射了光线，让天空看起来是蓝色的。</think>天空看起来是蓝色的主要是由于太阳光被地球大气层折射而成的。<|im_end|>\\n<|im_start|>user\\n如何评价吃饭不洗手<|im_end|>\\n<|im_start|>assistant\\n'"
      ]
     },
     "execution_count": 3,
     "metadata": {},
     "output_type": "execute_result"
    }
   ],
   "source": [
    "propmt_temp"
   ]
  },
  {
   "cell_type": "code",
   "execution_count": null,
   "metadata": {},
   "outputs": [],
   "source": []
  },
  {
   "cell_type": "code",
   "execution_count": null,
   "metadata": {},
   "outputs": [],
   "source": []
  },
  {
   "cell_type": "code",
   "execution_count": null,
   "metadata": {},
   "outputs": [],
   "source": []
  },
  {
   "cell_type": "code",
   "execution_count": null,
   "metadata": {},
   "outputs": [],
   "source": []
  },
  {
   "cell_type": "code",
   "execution_count": null,
   "metadata": {},
   "outputs": [],
   "source": []
  },
  {
   "cell_type": "code",
   "execution_count": null,
   "metadata": {},
   "outputs": [],
   "source": []
  },
  {
   "cell_type": "code",
   "execution_count": null,
   "metadata": {},
   "outputs": [],
   "source": []
  }
 ],
 "metadata": {
  "kernelspec": {
   "display_name": "dev",
   "language": "python",
   "name": "python3"
  },
  "language_info": {
   "codemirror_mode": {
    "name": "ipython",
    "version": 3
   },
   "file_extension": ".py",
   "mimetype": "text/x-python",
   "name": "python",
   "nbconvert_exporter": "python",
   "pygments_lexer": "ipython3",
   "version": "3.12.3"
  }
 },
 "nbformat": 4,
 "nbformat_minor": 2
}
