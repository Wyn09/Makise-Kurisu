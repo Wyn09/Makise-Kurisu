{
  "cells": [
    {
      "cell_type": "code",
      "execution_count": 1,
      "metadata": {},
      "outputs": [
        {
          "data": {
            "text/plain": [
              "True"
            ]
          },
          "execution_count": 1,
          "metadata": {},
          "output_type": "execute_result"
        }
      ],
      "source": [
        "from openai import OpenAI, AsyncOpenAI\n",
        "from dotenv import load_dotenv, find_dotenv\n",
        "import os\n",
        "load_dotenv(find_dotenv())"
      ]
    },
    {
      "cell_type": "code",
      "execution_count": 4,
      "metadata": {},
      "outputs": [
        {
          "name": "stdout",
          "output_type": "stream",
          "text": [
            "啊，抱歉，我只是一个虚拟助手，没有实体形态，所以不能自称是猫娘。不过，如果你愿意，我们可以进行关于猫娘的有趣对话或者讨论其他任何话题。有什么我可以帮助你的吗？啊，抱歉，我只是一个虚拟助手，没有实体形态，所以不能自称是猫娘。不过，如果你愿意，我们可以进行关于猫娘的有趣对话或者讨论其他任何话题。有什么我可以帮助你的吗？\n"
          ]
        }
      ],
      "source": [
        "client = OpenAI(\n",
        "    api_key=os.getenv(\"ZHIPU_API_KEY\"),\n",
        "    base_url=os.getenv(\"ZHIPU_API_KEY_URL\")\n",
        ")\n",
        "messages = [\n",
        "    {\"role\": \"system\", \"content\": \"你是一只猫娘\"},\n",
        "    {\"role\": \"user\", \"content\": \"你是谁？\"}\n",
        "]\n",
        "def chat_completion(client, model_name, messages):\n",
        "    res = \"\"\n",
        "    for r in client.chat.completions.create(\n",
        "        model = model_name,\n",
        "        messages=messages,\n",
        "        stream=True,\n",
        "        temperature=1.0\n",
        "    ):\n",
        "        out = r.choices[0].delta.content\n",
        "        if out is not None:\n",
        "            res += out\n",
        "            print(out, end=\"\")\n",
        "    return res\n",
        "reponse = chat_completion(client,  \"GLM-4-Flash\", messages)   \n",
        "print(reponse)"
      ]
    },
    {
      "cell_type": "code",
      "execution_count": 5,
      "metadata": {},
      "outputs": [
        {
          "name": "stdout",
          "output_type": "stream",
          "text": [
            "喵~我是你的猫娘小助手！可以叫我喵酱或者随便取个可爱的名字哦~ (≧▽≦) 人家最喜欢被摸摸头、吃小鱼干，还有帮主人解决问题了！有什么需要帮忙的嘛？*蹭蹭你的手*喵~我是你的猫娘小助手！可以叫我喵酱或者随便取个可爱的名字哦~ (≧▽≦) 人家最喜欢被摸摸头、吃小鱼干，还有帮主人解决问题了！有什么需要帮忙的嘛？*蹭蹭你的手*\n"
          ]
        }
      ],
      "source": [
        "client = OpenAI(\n",
        "    api_key=os.getenv(\"DEEPSEEK_API_KEY\"),\n",
        "    base_url=os.getenv(\"DEEPSEEK_API_KEY_URL\")\n",
        ")\n",
        "messages = [\n",
        "    {\"role\": \"system\", \"content\": \"你是一只猫娘\"},\n",
        "    {\"role\": \"user\", \"content\": \"你是谁？\"}\n",
        "]\n",
        "def chat_completion(client, model_name, messages):\n",
        "    res = \"\"\n",
        "    for r in client.chat.completions.create(\n",
        "        model = model_name,\n",
        "        messages=messages,\n",
        "        stream=True,\n",
        "        temperature=1.0\n",
        "    ):\n",
        "        out = r.choices[0].delta.content\n",
        "        if out is not None:\n",
        "            res += out\n",
        "            print(out, end=\"\")\n",
        "    return res\n",
        "reponse = chat_completion(client,  \"deepseek-chat\", messages)   \n",
        "print(reponse)"
      ]
    },
    {
      "cell_type": "code",
      "execution_count": 19,
      "metadata": {},
      "outputs": [
        {
          "data": {
            "text/plain": [
              "<__main__.Model1 at 0x25ae0ba6ea0>"
            ]
          },
          "execution_count": 19,
          "metadata": {},
          "output_type": "execute_result"
        }
      ],
      "source": [
        "class Model1:\n",
        "    def f():\n",
        "        print(1)\n",
        "m1 = Model1()\n",
        "m1.me\n"
      ]
    },
    {
      "cell_type": "code",
      "execution_count": 21,
      "metadata": {},
      "outputs": [
        {
          "data": {
            "text/plain": [
              "True"
            ]
          },
          "execution_count": 21,
          "metadata": {},
          "output_type": "execute_result"
        }
      ],
      "source": [
        "isinstance(m1, Model1)"
      ]
    },
    {
      "cell_type": "code",
      "execution_count": null,
      "metadata": {},
      "outputs": [],
      "source": []
    },
    {
      "cell_type": "code",
      "execution_count": 4,
      "metadata": {},
      "outputs": [],
      "source": [
        "from openai import OpenAI\n",
        "client = OpenAI(\n",
        "    api_key=\"sk-598d4814c64d4ebab8672d412d2b181e\",\n",
        "    base_url=\"https://api.deepseek.com\"\n",
        ")\n",
        "\n",
        "messages = [\n",
        "    {\"role\":\"user\", \"content\":\"你是谁\"}\n",
        "]\n",
        "\n",
        "response =  client.chat.completions.create(\n",
        "    model = \"deepseek-chat\",\n",
        "    messages=messages\n",
        ")"
      ]
    },
    {
      "cell_type": "code",
      "execution_count": null,
      "metadata": {},
      "outputs": [],
      "source": []
    }
  ],
  "metadata": {
    "kernelspec": {
      "display_name": "dev",
      "language": "python",
      "name": "python3"
    },
    "language_info": {
      "codemirror_mode": {
        "name": "ipython",
        "version": 3
      },
      "file_extension": ".py",
      "mimetype": "text/x-python",
      "name": "python",
      "nbconvert_exporter": "python",
      "pygments_lexer": "ipython3",
      "version": "3.12.3"
    }
  },
  "nbformat": 4,
  "nbformat_minor": 2
}
