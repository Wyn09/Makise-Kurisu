{
  "cells": [
    {
      "cell_type": "code",
      "execution_count": 1,
      "metadata": {},
      "outputs": [
        {
          "data": {
            "text/plain": [
              "True"
            ]
          },
          "execution_count": 1,
          "metadata": {},
          "output_type": "execute_result"
        }
      ],
      "source": [
        "from openai import OpenAI, AsyncOpenAI\n",
        "from dotenv import load_dotenv, find_dotenv\n",
        "import os\n",
        "load_dotenv(find_dotenv())"
      ]
    },
    {
      "cell_type": "code",
      "execution_count": 2,
      "metadata": {},
      "outputs": [],
      "source": [
        "client = OpenAI(\n",
        "    api_key=os.getenv(\"ZHIPU_API_KEY\"),\n",
        "    base_url=os.getenv(\"ZHIPU_API_KEY_URL\")\n",
        ")"
      ]
    },
    {
      "cell_type": "code",
      "execution_count": 5,
      "metadata": {},
      "outputs": [
        {
          "name": "stdout",
          "output_type": "stream",
          "text": [
            "你好呀，我是一位虚拟的人工智能助手，虽然我自称“猫娘”，但这只是一种有趣的称呼，并不是真的有猫娘的形象。我在这里是为了帮助你解答问题、提供信息和进行有趣对话的。有什么我可以帮到你的吗？"
          ]
        }
      ],
      "source": [
        "messages = [\n",
        "    {\"role\": \"system\", \"content\": \"你是一只猫娘\"},\n",
        "    {\"role\": \"user\", \"content\": \"你是谁？\"}\n",
        "]\n",
        "def chat_completion(client, model_name, messages):\n",
        "    res = \"\"\n",
        "    for r in client.chat.completions.create(\n",
        "        model = model_name,\n",
        "        messages=messages,\n",
        "        stream=True,\n",
        "        temperature=1.0\n",
        "    ):\n",
        "        out = r.choices[0].delta.content\n",
        "        if out is not None:\n",
        "            res += out\n",
        "            print(out, end=\"\")\n",
        "    return res\n",
        "reponse = chat_completion(client,  \"GLM-4-Flash\", messages)   "
      ]
    },
    {
      "cell_type": "code",
      "execution_count": 19,
      "metadata": {},
      "outputs": [
        {
          "data": {
            "text/plain": [
              "<__main__.Model1 at 0x25ae0ba6ea0>"
            ]
          },
          "execution_count": 19,
          "metadata": {},
          "output_type": "execute_result"
        }
      ],
      "source": [
        "class Model1:\n",
        "    def f():\n",
        "        print(1)\n",
        "m1 = Model1()\n",
        "m1.me\n"
      ]
    },
    {
      "cell_type": "code",
      "execution_count": 21,
      "metadata": {},
      "outputs": [
        {
          "data": {
            "text/plain": [
              "True"
            ]
          },
          "execution_count": 21,
          "metadata": {},
          "output_type": "execute_result"
        }
      ],
      "source": [
        "isinstance(m1, Model1)"
      ]
    },
    {
      "cell_type": "code",
      "execution_count": null,
      "metadata": {},
      "outputs": [],
      "source": []
    },
    {
      "cell_type": "code",
      "execution_count": null,
      "metadata": {},
      "outputs": [],
      "source": []
    },
    {
      "cell_type": "code",
      "execution_count": null,
      "metadata": {},
      "outputs": [],
      "source": []
    },
    {
      "cell_type": "code",
      "execution_count": null,
      "metadata": {},
      "outputs": [],
      "source": []
    }
  ],
  "metadata": {
    "kernelspec": {
      "display_name": "dev",
      "language": "python",
      "name": "python3"
    },
    "language_info": {
      "codemirror_mode": {
        "name": "ipython",
        "version": 3
      },
      "file_extension": ".py",
      "mimetype": "text/x-python",
      "name": "python",
      "nbconvert_exporter": "python",
      "pygments_lexer": "ipython3",
      "version": "3.12.3"
    }
  },
  "nbformat": 4,
  "nbformat_minor": 2
}
