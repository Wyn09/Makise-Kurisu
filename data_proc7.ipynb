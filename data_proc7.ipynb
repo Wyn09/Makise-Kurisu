{
 "cells": [
  {
   "cell_type": "markdown",
   "metadata": {},
   "source": [
    "## 音频切分的标注矫正\n",
    "- 从第三十个开始"
   ]
  },
  {
   "cell_type": "code",
   "execution_count": 35,
   "metadata": {},
   "outputs": [],
   "source": [
    "import os\n",
    "from joblib import load"
   ]
  },
  {
   "cell_type": "code",
   "execution_count": 36,
   "metadata": {},
   "outputs": [
    {
     "name": "stderr",
     "output_type": "stream",
     "text": [
      "<>:1: SyntaxWarning: invalid escape sequence '\\s'\n",
      "<>:1: SyntaxWarning: invalid escape sequence '\\s'\n",
      "C:\\Users\\MSI\\AppData\\Local\\Temp\\ipykernel_13808\\2613030860.py:1: SyntaxWarning: invalid escape sequence '\\s'\n",
      "  with open(\"data\\speech_text.txt\", \"r\", encoding=\"utf-8\") as f:\n"
     ]
    },
    {
     "data": {
      "text/plain": [
       "['あなたに会いに来たの、岡部凛太郎さん。 あ、じゃなくて…',\n",
       " '鳳凰院凶魔さんだった?',\n",
       " 'そうです。私が死んだのを見たっていうのが事実なのか。',\n",
       " '単なるセクハラの言い訳なのか、それについての回答が欲しくて。',\n",
       " 'でも、今のあなたの振る舞いで理解した。どうやら単なるセクハラだったみたい。']"
      ]
     },
     "execution_count": 36,
     "metadata": {},
     "output_type": "execute_result"
    }
   ],
   "source": [
    "\n",
    "with open(\"data\\speech_text.txt\", \"r\", encoding=\"utf-8\") as f:\n",
    "    new_data = []\n",
    "    for line in f.readlines():\n",
    "        new_data.append(line.split(\"读取到内容:\")[-1].strip())\n",
    "new_data[:5]"
   ]
  },
  {
   "cell_type": "code",
   "execution_count": 37,
   "metadata": {},
   "outputs": [
    {
     "data": {
      "text/plain": [
       "['D:\\\\GPT-SoVITS-v3lora-20250228\\\\GPT-SoVITS-v3lora-20250228\\\\GPT-SoVITS-v3lora-20250228\\\\output\\\\slicer_opt\\\\crs_0122.ogg_0000000000_0000161920.wav|slicer_opt|JA|あなたに会いに来たの、岡部凛太郎さん。 あ、じゃなくて…\\n',\n",
       " 'D:\\\\GPT-SoVITS-v3lora-20250228\\\\GPT-SoVITS-v3lora-20250228\\\\GPT-SoVITS-v3lora-20250228\\\\output\\\\slicer_opt\\\\crs_0122.ogg_0000165440_0000248000.wav|slicer_opt|JA|鳳凰院凶魔さんだった?\\n',\n",
       " 'D:\\\\GPT-SoVITS-v3lora-20250228\\\\GPT-SoVITS-v3lora-20250228\\\\GPT-SoVITS-v3lora-20250228\\\\output\\\\slicer_opt\\\\crs_0127.ogg_0000000000_0000164160.wav|slicer_opt|JA|そうです。私が死んだのを見たっていうのが事実なのか。\\n',\n",
       " 'D:\\\\GPT-SoVITS-v3lora-20250228\\\\GPT-SoVITS-v3lora-20250228\\\\GPT-SoVITS-v3lora-20250228\\\\output\\\\slicer_opt\\\\crs_0127.ogg_0000165760_0000302720.wav|slicer_opt|JA|単なるセクハラの言い訳なのか、それについての回答が欲しくて。\\n',\n",
       " 'D:\\\\GPT-SoVITS-v3lora-20250228\\\\GPT-SoVITS-v3lora-20250228\\\\GPT-SoVITS-v3lora-20250228\\\\output\\\\slicer_opt\\\\crs_0128.ogg_0000000000_0000191040.wav|slicer_opt|JA|でも、今のあなたの振る舞いで理解した。どうやら単なるセクハラだったみたい。\\n']"
      ]
     },
     "execution_count": 37,
     "metadata": {},
     "output_type": "execute_result"
    }
   ],
   "source": [
    "with open(r\"E:\\VsCode-Python\\Experiment\\Makise Kurisu\\character\\Makise Kurisu\\output\\asr_opt\\slicer_opt_text.txt\", \"r\", encoding=\"utf-8\") as f:\n",
    "    old_data = []\n",
    "    for line in f.readlines():\n",
    "        old_data.append(line)\n",
    "old_data[:5]"
   ]
  },
  {
   "cell_type": "code",
   "execution_count": 43,
   "metadata": {},
   "outputs": [
    {
     "data": {
      "text/plain": [
       "(972, 972)"
      ]
     },
     "execution_count": 43,
     "metadata": {},
     "output_type": "execute_result"
    }
   ],
   "source": [
    "len(new_data),len(old_data)"
   ]
  },
  {
   "cell_type": "code",
   "execution_count": 44,
   "metadata": {},
   "outputs": [],
   "source": [
    "data = []\n",
    "for i, d in enumerate(old_data):\n",
    "    data_splited = d.split(\"|JA|\")\n",
    "    try:\n",
    "        data_splited = data_splited[0] + \"|JA|\" + new_data[i]\n",
    "    except:\n",
    "        print(\"error\")\n",
    "    data.append(data_splited)"
   ]
  },
  {
   "cell_type": "code",
   "execution_count": 53,
   "metadata": {},
   "outputs": [
    {
     "data": {
      "text/plain": [
       "['D:\\\\GPT-SoVITS-v3lora-20250228\\\\GPT-SoVITS-v3lora-20250228\\\\GPT-SoVITS-v3lora-20250228\\\\output\\\\slicer_opt\\\\crs_0122.ogg_0000000000_0000161920.wav|slicer_opt|JA|あなたに会いに来たの、岡部凛太郎さん。 あ、じゃなくて…',\n",
       " 'D:\\\\GPT-SoVITS-v3lora-20250228\\\\GPT-SoVITS-v3lora-20250228\\\\GPT-SoVITS-v3lora-20250228\\\\output\\\\slicer_opt\\\\crs_0122.ogg_0000165440_0000248000.wav|slicer_opt|JA|鳳凰院凶魔さんだった?',\n",
       " 'D:\\\\GPT-SoVITS-v3lora-20250228\\\\GPT-SoVITS-v3lora-20250228\\\\GPT-SoVITS-v3lora-20250228\\\\output\\\\slicer_opt\\\\crs_0127.ogg_0000000000_0000164160.wav|slicer_opt|JA|そうです。私が死んだのを見たっていうのが事実なのか。',\n",
       " 'D:\\\\GPT-SoVITS-v3lora-20250228\\\\GPT-SoVITS-v3lora-20250228\\\\GPT-SoVITS-v3lora-20250228\\\\output\\\\slicer_opt\\\\crs_0127.ogg_0000165760_0000302720.wav|slicer_opt|JA|単なるセクハラの言い訳なのか、それについての回答が欲しくて。',\n",
       " 'D:\\\\GPT-SoVITS-v3lora-20250228\\\\GPT-SoVITS-v3lora-20250228\\\\GPT-SoVITS-v3lora-20250228\\\\output\\\\slicer_opt\\\\crs_0128.ogg_0000000000_0000191040.wav|slicer_opt|JA|でも、今のあなたの振る舞いで理解した。どうやら単なるセクハラだったみたい。',\n",
       " 'D:\\\\GPT-SoVITS-v3lora-20250228\\\\GPT-SoVITS-v3lora-20250228\\\\GPT-SoVITS-v3lora-20250228\\\\output\\\\slicer_opt\\\\crs_0128.ogg_0000199680_0000322240.wav|slicer_opt|JA|つまり、私の予測が証明されたということ。',\n",
       " 'D:\\\\GPT-SoVITS-v3lora-20250228\\\\GPT-SoVITS-v3lora-20250228\\\\GPT-SoVITS-v3lora-20250228\\\\output\\\\slicer_opt\\\\crs_0130.ogg_0000000000_0000104320.wav|slicer_opt|JA|そういえば、まともに自己紹介してませんでしたね。',\n",
       " 'D:\\\\GPT-SoVITS-v3lora-20250228\\\\GPT-SoVITS-v3lora-20250228\\\\GPT-SoVITS-v3lora-20250228\\\\output\\\\slicer_opt\\\\crs_0130.ogg_0000121280_0000241600.wav|slicer_opt|JA|牧瀬クリスです。改めましてよろしく。',\n",
       " 'D:\\\\GPT-SoVITS-v3lora-20250228\\\\GPT-SoVITS-v3lora-20250228\\\\GPT-SoVITS-v3lora-20250228\\\\output\\\\slicer_opt\\\\crs_0160.ogg_0000000000_0000159360.wav|slicer_opt|JA|研究所のメンバーに迎えてくれるっていうこと? でも、私…',\n",
       " 'D:\\\\GPT-SoVITS-v3lora-20250228\\\\GPT-SoVITS-v3lora-20250228\\\\GPT-SoVITS-v3lora-20250228\\\\output\\\\slicer_opt\\\\crs_0160.ogg_0000159360_0000247680.wav|slicer_opt|JA|8月中にアメリカに帰る予定なんですけど']"
      ]
     },
     "execution_count": 53,
     "metadata": {},
     "output_type": "execute_result"
    }
   ],
   "source": [
    "data[:10]"
   ]
  },
  {
   "cell_type": "code",
   "execution_count": 55,
   "metadata": {},
   "outputs": [],
   "source": [
    "with open(r\"character\\Makise Kurisu\\output\\asr_opt\\slicer_opt2.list\", \"a\", encoding=\"utf-8\") as f:\n",
    "    for d in data:\n",
    "        f.write(d+\"\\n\")"
   ]
  },
  {
   "cell_type": "code",
   "execution_count": null,
   "metadata": {},
   "outputs": [],
   "source": []
  }
 ],
 "metadata": {
  "kernelspec": {
   "display_name": "dev",
   "language": "python",
   "name": "python3"
  },
  "language_info": {
   "codemirror_mode": {
    "name": "ipython",
    "version": 3
   },
   "file_extension": ".py",
   "mimetype": "text/x-python",
   "name": "python",
   "nbconvert_exporter": "python",
   "pygments_lexer": "ipython3",
   "version": "3.12.3"
  }
 },
 "nbformat": 4,
 "nbformat_minor": 2
}
